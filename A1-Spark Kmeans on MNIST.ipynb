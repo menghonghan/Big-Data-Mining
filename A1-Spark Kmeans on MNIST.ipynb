{
 "cells": [
  {
   "cell_type": "markdown",
   "metadata": {},
   "source": [
    "# Load and transform data "
   ]
  },
  {
   "cell_type": "code",
   "execution_count": 1,
   "metadata": {},
   "outputs": [
    {
     "name": "stdout",
     "output_type": "stream",
     "text": [
      "Training Data: (60000, 28, 28)\n",
      "Training Labels: (60000,)\n",
      "Testing Data: (10000, 28, 28)\n",
      "Testing Labels: (10000,)\n"
     ]
    }
   ],
   "source": [
    "\n",
    "import numpy as np\n",
    "import os\n",
    "import gzip\n",
    "\n",
    "def load_data(data_folder):\n",
    "\n",
    "  files = [\n",
    "      'train-labels-idx1-ubyte.gz', 'train-images-idx3-ubyte.gz',\n",
    "      't10k-labels-idx1-ubyte.gz', 't10k-images-idx3-ubyte.gz'\n",
    "  ]\n",
    "\n",
    "  paths = []\n",
    "  for fname in files:\n",
    "    paths.append(os.path.join(data_folder,fname))\n",
    "\n",
    "  with gzip.open(paths[0], 'rb') as lbpath:\n",
    "    y_train = np.frombuffer(lbpath.read(), np.uint8, offset=8)\n",
    "\n",
    "  with gzip.open(paths[1], 'rb') as imgpath:\n",
    "    x_train = np.frombuffer(\n",
    "        imgpath.read(), np.uint8, offset=16).reshape(len(y_train), 28, 28)\n",
    "\n",
    "  with gzip.open(paths[2], 'rb') as lbpath:\n",
    "    y_test = np.frombuffer(lbpath.read(), np.uint8, offset=8)\n",
    "\n",
    "  with gzip.open(paths[3], 'rb') as imgpath:\n",
    "    x_test = np.frombuffer(\n",
    "        imgpath.read(), np.uint8, offset=16).reshape(len(y_test), 28, 28)\n",
    "\n",
    "  return (x_train, y_train), (x_test, y_test)\n",
    "\n",
    "(X_train, y_train), (X_test, y_test) = load_data('/Users/tmh/Desktop/massive data/hw1/MNIST/')\n",
    "\n",
    "print('Training Data: {}'.format(X_train.shape))\n",
    "print('Training Labels: {}'.format(y_train.shape))\n",
    "print('Testing Data: {}'.format(X_test.shape))\n",
    "print('Testing Labels: {}'.format(y_test.shape))\n"
   ]
  },
  {
   "cell_type": "code",
   "execution_count": 2,
   "metadata": {},
   "outputs": [
    {
     "name": "stdout",
     "output_type": "stream",
     "text": [
      "(60000, 784)\n",
      "(784,)\n",
      "(10000, 784)\n",
      "(784,)\n"
     ]
    }
   ],
   "source": [
    "# preprocessing the images\n",
    "# convert each image to 1 dimensional array\n",
    "X_train = X_train.reshape(len(X_train),-1)\n",
    "X_test = X_test.reshape(len(X_test),-1)\n",
    "\n",
    "# normalize the data to 0 - 1\n",
    "X_train = X_train.astype(float) / 255.\n",
    "X_test = X_test.astype(float) / 255.\n",
    "print(X_train.shape)\n",
    "print(X_train[0].shape)\n",
    "print(X_test.shape)\n",
    "print(X_test[0].shape)"
   ]
  },
  {
   "cell_type": "code",
   "execution_count": 3,
   "metadata": {},
   "outputs": [],
   "source": [
    "np.savetxt('X_train.csv', X_train, delimiter = ',')\n",
    "np.savetxt('X_test.csv', X_test, delimiter = ',')\n",
    "np.savetxt('y_train.csv', y_train, delimiter = ',')\n",
    "np.savetxt('y_test.csv', y_test, delimiter = ',')"
   ]
  },
  {
   "cell_type": "code",
   "execution_count": 4,
   "metadata": {},
   "outputs": [],
   "source": [
    "from pyspark.sql import SparkSession\n",
    "\n",
    "spark = SparkSession \\\n",
    "    .builder \\\n",
    "    .appName(\"Pyspark_kmeans_MNIST\") \\\n",
    "    .config(\"spark.some.config.option\", \"some-value\") \\\n",
    "    .getOrCreate()"
   ]
  },
  {
   "cell_type": "code",
   "execution_count": 68,
   "metadata": {},
   "outputs": [],
   "source": [
    "X_train = spark.read.format('com.databricks.spark.csv').\\\n",
    "                       options(header='true', \\\n",
    "                       inferschema='true').\\\n",
    "            load(\"../MNIST/X_train.csv\",header=None);\n",
    "X_test = spark.read.format('com.databricks.spark.csv').\\\n",
    "                       options(header='true', \\\n",
    "                       inferschema='true').\\\n",
    "            load(\"../MNIST/X_test.csv\",header=None);"
   ]
  },
  {
   "cell_type": "code",
   "execution_count": 69,
   "metadata": {},
   "outputs": [
    {
     "name": "stdout",
     "output_type": "stream",
     "text": [
      "(60000, 784)\n",
      "(10000, 784)\n"
     ]
    }
   ],
   "source": [
    "print((X_train.count(), len(X_train.columns)))\n",
    "print((X_test.count(), len(X_test.columns)))"
   ]
  },
  {
   "cell_type": "code",
   "execution_count": 70,
   "metadata": {},
   "outputs": [],
   "source": [
    "from pyspark.ml.feature import VectorAssembler\n",
    "FEATURE_NUM = 784\n",
    "# assemble those features to a vector to consume in Spark\n",
    "assembler = VectorAssembler(\n",
    "    inputCols=[\"_c{0}\".format(i) for i in range(FEATURE_NUM)],\n",
    "    outputCol=\"features\")\n",
    "\n",
    "# Transform pixel0,pixel1...pixel783 to one column named \"features\"\n",
    "X_train = assembler.transform(X_train).select(\"features\")\n",
    "X_test = assembler.transform(X_test).select(\"features\")\n"
   ]
  },
  {
   "cell_type": "code",
   "execution_count": 71,
   "metadata": {},
   "outputs": [
    {
     "name": "stdout",
     "output_type": "stream",
     "text": [
      "+--------------------+\n",
      "|            features|\n",
      "+--------------------+\n",
      "|(784,[152,153,154...|\n",
      "|(784,[127,128,129...|\n",
      "|(784,[160,161,162...|\n",
      "|(784,[158,159,160...|\n",
      "|(784,[208,209,210...|\n",
      "+--------------------+\n",
      "only showing top 5 rows\n",
      "\n",
      "+--------------------+\n",
      "|            features|\n",
      "+--------------------+\n",
      "|(784,[202,203,204...|\n",
      "|(784,[94,95,96,97...|\n",
      "|(784,[128,129,130...|\n",
      "|(784,[124,125,126...|\n",
      "|(784,[150,151,159...|\n",
      "+--------------------+\n",
      "only showing top 5 rows\n",
      "\n"
     ]
    }
   ],
   "source": [
    "#X_train= transData(X_train)\n",
    "X_train.show(5,True)\n",
    "#X_test= transData(X_test)\n",
    "X_test.show(5,True)"
   ]
  },
  {
   "cell_type": "markdown",
   "metadata": {},
   "source": [
    "# Spark K-means"
   ]
  },
  {
   "cell_type": "code",
   "execution_count": 84,
   "metadata": {},
   "outputs": [
    {
     "name": "stderr",
     "output_type": "stream",
     "text": [
      "Usage: kmeans <file> <k> <convergeDist>\n"
     ]
    },
    {
     "ename": "SystemExit",
     "evalue": "-1",
     "output_type": "error",
     "traceback": [
      "An exception has occurred, use %tb to see the full traceback.\n",
      "\u001b[0;31mSystemExit\u001b[0m\u001b[0;31m:\u001b[0m -1\n"
     ]
    }
   ],
   "source": [
    "import sys\n",
    "\n",
    "import numpy as np\n",
    "from pyspark.sql import SparkSession\n",
    "\n",
    "\n",
    "def parseVector(line):\n",
    "    return np.array([float(x) for x in line.split(' ')])\n",
    "\n",
    "\n",
    "def closestPoint(p, centers):\n",
    "    bestIndex = 0\n",
    "    closest = float(\"+inf\")\n",
    "    for i in range(len(centers)):\n",
    "        tempDist = np.sum((p - centers[i]) ** 2)\n",
    "        if tempDist < closest:\n",
    "            closest = tempDist\n",
    "            bestIndex = i\n",
    "    return bestIndex\n",
    "\n",
    "\n",
    "if __name__ == \"__main__\":\n",
    "\n",
    "    if len(sys.argv) != 4:\n",
    "        print(\"Usage: kmeans <file> <k> <convergeDist>\", file=sys.stderr)\n",
    "        sys.exit(-1)\n",
    "\n",
    "    print(\"\"\"WARN: This is a naive implementation of KMeans Clustering and is given\n",
    "       as an example! Please refer to examples/src/main/python/ml/kmeans_example.py for an\n",
    "       example on how to use ML's KMeans implementation.\"\"\", file=sys.stderr)\n",
    "\n",
    "    spark = SparkSession\\\n",
    "        .builder\\\n",
    "        .appName(\"PythonKMeans\")\\\n",
    "        .getOrCreate()\n",
    "\n",
    "    lines = spark.read.text(sys.argv[1]).rdd.map(lambda r: r[0])\n",
    "    data = lines.map(parseVector).cache()\n",
    "    K = int(sys.argv[2])\n",
    "    convergeDist = float(sys.argv[3])\n",
    "\n",
    "    kPoints = data.takeSample(False, K, 1)\n",
    "    tempDist = 1.0\n",
    "\n",
    "    while tempDist > convergeDist:\n",
    "        closest = data.map(\n",
    "            lambda p: (closestPoint(p, kPoints), (p, 1)))\n",
    "        pointStats = closest.reduceByKey(\n",
    "            lambda p1_c1, p2_c2: (p1_c1[0] + p2_c2[0], p1_c1[1] + p2_c2[1]))\n",
    "        newPoints = pointStats.map(\n",
    "            lambda st: (st[0], st[1][0] / st[1][1])).collect()\n",
    "\n",
    "        tempDist = sum(np.sum((kPoints[iK] - p) ** 2) for (iK, p) in newPoints)\n",
    "\n",
    "        for (iK, p) in newPoints:\n",
    "            kPoints[iK] = p\n",
    "\n",
    "    print(\"Final centers: \" + str(kPoints))\n",
    "\n",
    "    spark.stop()"
   ]
  },
  {
   "cell_type": "code",
   "execution_count": 73,
   "metadata": {},
   "outputs": [],
   "source": [
    "from pyspark.ml.clustering import KMeans\n",
    "import numpy as np\n",
    "cost = np.zeros(20)\n",
    "for k in range(2,20):\n",
    "    kmeans = KMeans()\\\n",
    "            .setK(k)\\\n",
    "            .setSeed(1) \\\n",
    "            .setFeaturesCol(\"features\")\\\n",
    "            .setPredictionCol(\"cluster\")\n",
    "\n",
    "    model = kmeans.fit(X_train)\n",
    "    cost[k] = model.computeCost(X_train) "
   ]
  },
  {
   "cell_type": "code",
   "execution_count": 14,
   "metadata": {},
   "outputs": [
    {
     "data": {
      "image/png": "[encoded data removed]",
      "text/plain": [
       "<Figure size 576x432 with 1 Axes>"
      ]
     },
     "metadata": {
      "needs_background": "light"
     },
     "output_type": "display_data"
    }
   ],
   "source": [
    "import matplotlib.mlab as mlab\n",
    "import matplotlib.pyplot as plt\n",
    "import seaborn as sbs\n",
    "from matplotlib.ticker import MaxNLocator\n",
    "\n",
    "fig, ax = plt.subplots(1,1, figsize =(8,6))\n",
    "ax.plot(range(2,20),cost[2:20])\n",
    "ax.set_xlabel('k')\n",
    "ax.set_ylabel('cost')\n",
    "ax.xaxis.set_major_locator(MaxNLocator(integer=True))\n",
    "plt.show()"
   ]
  },
  {
   "cell_type": "code",
   "execution_count": 74,
   "metadata": {},
   "outputs": [],
   "source": [
    "from pyspark.ml import Pipeline\n",
    "kmeans = KMeans() \\\n",
    "          .setK(256) \\\n",
    "          .setFeaturesCol(\"features\")\\\n",
    "          .setPredictionCol(\"cluster\")\n",
    "\n",
    "model = kmeans.fit(X_train)\n",
    "cluster = model.transform(X_train).select('cluster').collect()\n",
    "predlabels = [c.cluster for c in cluster ]\n"
   ]
  },
  {
   "cell_type": "code",
   "execution_count": 75,
   "metadata": {},
   "outputs": [
    {
     "data": {
      "text/plain": [
       "0.00031666666666666665"
      ]
     },
     "execution_count": 75,
     "metadata": {},
     "output_type": "execute_result"
    }
   ],
   "source": [
    "from sklearn.metrics import accuracy_score\n",
    "#y_train=y_train.tolist()\n",
    "accuracy_score(y_train, predlabels)\n"
   ]
  },
  {
   "cell_type": "markdown",
   "metadata": {},
   "source": [
    " We can see the accuracy is extremely low, this is because K-means is an unsupervised learning, the predicted cluster number was given randomly. Therefore, to calculate the accuracy, we should map the predicted cluster numbers with the real numbers."
   ]
  },
  {
   "cell_type": "markdown",
   "metadata": {},
   "source": [
    "# Assigning Cluster Labels"
   ]
  },
  {
   "cell_type": "code",
   "execution_count": 17,
   "metadata": {},
   "outputs": [],
   "source": [
    "\n",
    "predlabels = np.array(predlabels)\n",
    "\n",
    "def infer_cluster_labels(kmeans, actual_labels):\n",
    "    \"\"\"\n",
    "    Associates most probable label with each cluster in KMeans model\n",
    "    returns: dictionary of clusters assigned to each label\n",
    "    \"\"\"\n",
    "\n",
    "    inferred_labels = {}\n",
    "\n",
    "    for i in range(256):\n",
    "\n",
    "        # find index of points in cluster\n",
    "        labels = []\n",
    "        index = np.where(predlabels == i)  #预测的cluster=1的序号\n",
    "\n",
    "        # append actual labels for each point in cluster\n",
    "        labels.append(y_train[index])  #这些位置真实的序号在labels里\n",
    "\n",
    "        # determine most common label\n",
    "        if len(labels[0]) == 1:\n",
    "            counts = np.bincount(labels[0])    #进到labels的第一个array里，查升序10个索引出现的次数np.bincount count(indexappears)\n",
    "        else:\n",
    "            counts = np.bincount(np.squeeze(labels)) # 在机器学习和深度学习中，通常算法的结果是可以表示向量的数组（即包含两对或以上的方括号形式[[]]），如果直接利用这个数组进行画图可能显示界面为空（见后面的示例）。我们可以利用squeeze（）函数将表示向量的数组转换为秩为1的数组，这样利用matplotlib库函数画图时，就可以正常的显示结果了。\n",
    "\n",
    "\n",
    "        # assign the cluster to a value in the inferred_labels dictionary\n",
    "        if np.argmax(counts) in inferred_labels:   #出现次数最多的那个index\n",
    "            # append the new number to the existing array at this slot\n",
    "            inferred_labels[np.argmax(counts)].append(i)    # {5: [i, 1, 1]} 如果在里面就继续写i  5是真的\n",
    "        else:\n",
    "            # create a new array in this slot\n",
    "            inferred_labels[np.argmax(counts)] = [i]    #不在就创建{5: [1]}\n",
    "        \n",
    "    return inferred_labels  \n",
    "\n",
    "#以上表示预测的cluster=1里面的点 最多聚集在真实的聚类5那里， i个预测cluster的时候 得到聚集在真实聚类处 各个预测cluster的值\n",
    "\n",
    "\n",
    "def infer_data_labels(X_labels, cluster_labels):\n",
    "    \"\"\"\n",
    "    Determines label for each array, depending on the cluster it has been assigned to.\n",
    "    returns: predicted labels for each array\n",
    "    \"\"\"\n",
    "    \n",
    "    # empty array of len(X)\n",
    "    predicted_labels = np.zeros(len(X_labels)).astype(np.uint8)  \n",
    "    \n",
    "    for i, cluster in enumerate(X_labels):   #enumerate 同时输出索引和索引处的值\n",
    "        for key, value in cluster_labels.items():\n",
    "            if cluster in value:\n",
    "                predicted_labels[i] = key\n",
    "                \n",
    "    return predicted_labels   #把预测的用真实填写"
   ]
  },
  {
   "cell_type": "code",
   "execution_count": 18,
   "metadata": {},
   "outputs": [
    {
     "name": "stdout",
     "output_type": "stream",
     "text": [
      "[5 0 4 1 9 2 1 3 1 4 3 5 3 6 1 7 2 8 6 9]\n",
      "[5 0 4 1 9 2 1 3 1 4 3 5 3 6 1 7 2 8 6 9]\n"
     ]
    }
   ],
   "source": [
    "y_train=np.array(y_train)\n",
    "predlabels = np.array(predlabels)\n",
    "# test the infer_cluster_labels() and infer_data_labels() functions\n",
    "\n",
    "cluster_labels = infer_cluster_labels(model, y_train)\n",
    "\n",
    "\n",
    "predicted_labels = infer_data_labels(predlabels, cluster_labels)\n",
    "print (predicted_labels[:20])\n",
    "print (y_train[:20])"
   ]
  },
  {
   "cell_type": "code",
   "execution_count": 19,
   "metadata": {},
   "outputs": [
    {
     "data": {
      "text/plain": [
       "0.9086666666666666"
      ]
     },
     "execution_count": 19,
     "metadata": {},
     "output_type": "execute_result"
    }
   ],
   "source": [
    "from sklearn.metrics import accuracy_score\n",
    "#y_train=y_train.tolist()\n",
    "accuracy_score(y_train, predicted_labels)\n"
   ]
  },
  {
   "cell_type": "markdown",
   "metadata": {},
   "source": [
    "The accuracy increased a lot, well done!!!"
   ]
  },
  {
   "cell_type": "markdown",
   "metadata": {},
   "source": [
    "# Test on test data"
   ]
  },
  {
   "cell_type": "code",
   "execution_count": 78,
   "metadata": {},
   "outputs": [
    {
     "name": "stdout",
     "output_type": "stream",
     "text": [
      "[7 2 1 0 4 1 9 3 5 9 0 6 9 0 1 5 9 7 5 4]\n",
      "[7 2 1 0 4 1 4 9 5 9 0 6 9 0 1 5 9 7 3 4]\n"
     ]
    }
   ],
   "source": [
    "y_test=np.array(y_test)\n",
    "predlabels = np.array(predlabels)\n",
    "# test the infer_cluster_labels() and infer_data_labels() functions\n",
    "\n",
    "cluster_test = model.transform(X_test).select('cluster').collect()\n",
    "predlabels_test = [c.cluster for c in cluster_test ]\n",
    "predlabels_test = np.array(predlabels_test)\n",
    "cluster_labels_test = infer_cluster_labels(model_test, y_test)\n",
    "\n",
    "\n",
    "predicted_labels_test = infer_data_labels(predlabels_test, cluster_labels_test)\n",
    "print (predicted_labels_test[:20])\n",
    "print (y_test[:20])"
   ]
  },
  {
   "cell_type": "code",
   "execution_count": 79,
   "metadata": {},
   "outputs": [
    {
     "data": {
      "text/plain": [
       "0.9145"
      ]
     },
     "execution_count": 79,
     "metadata": {},
     "output_type": "execute_result"
    }
   ],
   "source": [
    "from sklearn.metrics import accuracy_score\n",
    "#y_train=y_train.tolist()\n",
    "accuracy_score(y_test, predicted_labels_test)\n"
   ]
  },
  {
   "cell_type": "code",
   "execution_count": null,
   "metadata": {},
   "outputs": [],
   "source": []
  },
  {
   "cell_type": "code",
   "execution_count": null,
   "metadata": {},
   "outputs": [],
   "source": []
  }
 ],
 "metadata": {
  "kernelspec": {
   "display_name": "Python 3",
   "language": "python",
   "name": "python3"
  },
  "language_info": {
   "codemirror_mode": {
    "name": "ipython",
    "version": 3
   },
   "file_extension": ".py",
   "mimetype": "text/x-python",
   "name": "python",
   "nbconvert_exporter": "python",
   "pygments_lexer": "ipython3",
   "version": "3.7.6"
  }
 },
 "nbformat": 4,
 "nbformat_minor": 4
}
