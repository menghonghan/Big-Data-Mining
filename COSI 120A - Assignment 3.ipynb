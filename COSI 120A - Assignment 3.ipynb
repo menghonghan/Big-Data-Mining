{
 "cells": [
  {
   "cell_type": "markdown",
   "metadata": {},
   "source": [
    "# COSI 120A - Assignment 3 - PageRank"
   ]
  },
  {
   "cell_type": "markdown",
   "metadata": {},
   "source": [
    "## Q1. Google PageRank Impletation"
   ]
  },
  {
   "cell_type": "code",
   "execution_count": 69,
   "metadata": {},
   "outputs": [],
   "source": [
    "import numpy as np\n",
    "\n",
    "def MYPageRank(M, s = .85, maxerr = .0001):\n",
    "    n, d = M.shape\n",
    "    N = np.ones([n,d])* 1/n\n",
    "    r_old,r_new = np.repeat(1/n,n),np.repeat(1/n,n)\n",
    "    diff = r_new - r_old\n",
    "    max_itr = 100\n",
    "    for i in range(max_itr):\n",
    "        r_old = r_new.copy()\n",
    "        A = s * M + (1-s) * N\n",
    "        r_new = A.dot(r_old)\n",
    "        diff = r_new - r_old\n",
    "        if np.sum(np.abs(diff)) <= maxerr:\n",
    "            break\n",
    "        i += 1\n",
    "\n",
    "    return r_new,i"
   ]
  },
  {
   "cell_type": "code",
   "execution_count": 73,
   "metadata": {},
   "outputs": [
    {
     "name": "stdout",
     "output_type": "stream",
     "text": [
      "[[0.         0.5        1.         0.        ]\n",
      " [0.33333333 0.         0.         0.5       ]\n",
      " [0.33333333 0.         0.         0.5       ]\n",
      " [0.33333333 0.5        0.         0.        ]]\n"
     ]
    },
    {
     "data": {
      "text/plain": [
       "(array([0.32454707, 0.22515098, 0.22515098, 0.22515098]), 9)"
      ]
     },
     "execution_count": 73,
     "metadata": {},
     "output_type": "execute_result"
    }
   ],
   "source": [
    "# Input Q1 Transformation Matrix\n",
    "\n",
    "M = np.array([[0, 0.5, 1, 0],\n",
    "              [0.333, 0, 0, 0.5],\n",
    "              [0.333, 0, 0, 0.5],\n",
    "              [0.333,0.5,0,0]])\n",
    "import sympy as sy\n",
    "M[1][0] = sy.Rational('1/3')\n",
    "M[2][0] = sy.Rational('1/3')\n",
    "M[3][0] = sy.Rational('1/3')\n",
    "print(M)\n",
    "\n",
    "# Print PageRank of M\n",
    "MYPageRank(M)"
   ]
  },
  {
   "cell_type": "markdown",
   "metadata": {},
   "source": [
    "Therefore, after iteration for 9 times, we get the rank of ABCD, which is 0.32454707, 0.22515098, 0.22515098, 0.22515098."
   ]
  },
  {
   "cell_type": "markdown",
   "metadata": {},
   "source": [
    "## Q2. MapReduce PageRank"
   ]
  },
  {
   "cell_type": "markdown",
   "metadata": {},
   "source": [
    "### Loads in inputs"
   ]
  },
  {
   "cell_type": "code",
   "execution_count": 35,
   "metadata": {},
   "outputs": [],
   "source": [
    "# Initialize the spark context.\n",
    "conf=SparkConf().setAppName(\"PageRank\").setMaster(\"local[1]\")\n",
    "sc=SparkContext.getOrCreate(conf)"
   ]
  },
  {
   "cell_type": "code",
   "execution_count": 64,
   "metadata": {
    "scrolled": true
   },
   "outputs": [
    {
     "data": {
      "text/plain": [
       "['1\\t2', '1\\t5', '1\\t7', '1\\t8', '1\\t9']"
      ]
     },
     "execution_count": 64,
     "metadata": {},
     "output_type": "execute_result"
    }
   ],
   "source": [
    "data = sc.textFile('web-BerkStan.txt')\n",
    "data.take(5)"
   ]
  },
  {
   "cell_type": "code",
   "execution_count": 66,
   "metadata": {},
   "outputs": [
    {
     "data": {
      "text/plain": [
       "[('1', '2'), ('1', '5'), ('1', '7'), ('1', '8'), ('1', '9')]"
      ]
     },
     "execution_count": 66,
     "metadata": {},
     "output_type": "execute_result"
    }
   ],
   "source": [
    "def splitting(lines):\n",
    "    lines = lines.split('\\t')\n",
    "    return (lines[0], lines[1])\n",
    "data_splitted = data.map(splitting)\n",
    "data_splitted.take(5)"
   ]
  },
  {
   "cell_type": "markdown",
   "metadata": {},
   "source": [
    "### PageRank"
   ]
  },
  {
   "cell_type": "code",
   "execution_count": 74,
   "metadata": {},
   "outputs": [],
   "source": [
    "def computeContribs(urls, rank):\n",
    "    \"\"\"Calculates URL contributions to the rank of other URLs.\"\"\"\n",
    "    num_urls = len(urls)\n",
    "    for url in urls:\n",
    "        yield (url, rank / num_urls)\n"
   ]
  },
  {
   "cell_type": "code",
   "execution_count": 77,
   "metadata": {},
   "outputs": [],
   "source": [
    "# Loads all URLs from input file and initialize their neighbors.\n",
    "    \n",
    "#links = data_splitted.map(lambda urls: parseNeighbors(urls)).distinct().groupByKey().cache()\n",
    "links = data_splitted.groupByKey().cache()\n",
    "\n",
    "# Loads all URLs with other URL(s) link to from input file and initialize ranks of them to 1.0/len(urls) .\n",
    "ranks = links.map(lambda url_neighbors: (url_neighbors[0], 1.0/685230.0))"
   ]
  },
  {
   "cell_type": "code",
   "execution_count": 78,
   "metadata": {},
   "outputs": [
    {
     "data": {
      "text/plain": [
       "[('4', 1.4593640091648059e-06),\n",
       " ('12', 1.4593640091648059e-06),\n",
       " ('16', 1.4593640091648059e-06),\n",
       " ('444366', 1.4593640091648059e-06),\n",
       " ('10', 1.4593640091648059e-06)]"
      ]
     },
     "execution_count": 78,
     "metadata": {},
     "output_type": "execute_result"
    }
   ],
   "source": [
    "ranks.take(5)"
   ]
  },
  {
   "cell_type": "code",
   "execution_count": 59,
   "metadata": {},
   "outputs": [],
   "source": [
    "# Calculates and updates URL ranks continuously using PageRank algorithm.\n",
    "for iteration in range(10):\n",
    "    # Calculates URL contributions to the rank of other URLs.\n",
    "    contribs = links.join(ranks).flatMap(\n",
    "        lambda url_urls_rank: computeContribs(url_urls_rank[1][0], url_urls_rank[1][1]))\n",
    "\n",
    "    # Re-calculates URL ranks based on neighbor contributions.\n",
    "    ranks = contribs.reduceByKey(add).mapValues(lambda rank: rank * 0.85 + 0.15)\n",
    "\n"
   ]
  },
  {
   "cell_type": "markdown",
   "metadata": {},
   "source": [
    "### Rank Top 100"
   ]
  },
  {
   "cell_type": "code",
   "execution_count": 60,
   "metadata": {},
   "outputs": [
    {
     "data": {
      "text/plain": [
       "[('272919', 5135.337685312974),\n",
       " ('438238', 3491.0960312742745),\n",
       " ('571448', 1864.6376899641693),\n",
       " ('601656', 1602.690114457544),\n",
       " ('319209', 1399.2280593912456),\n",
       " ('316792', 1332.0106563322552),\n",
       " ('184094', 1282.3453401223012),\n",
       " ('401873', 1180.345170594501),\n",
       " ('571447', 1148.8928422268498),\n",
       " ('284306', 1138.1227323344524),\n",
       " ('768', 1082.2358974713154),\n",
       " ('927', 1010.7247942388504),\n",
       " ('66244', 973.5471932820052),\n",
       " ('68949', 972.971066110794),\n",
       " ('68948', 965.9204723030336),\n",
       " ('95552', 954.2712527121563),\n",
       " ('77284', 954.2712527121563),\n",
       " ('86237', 954.2712527121563),\n",
       " ('95551', 954.2712527121563),\n",
       " ('68947', 954.2712527121563),\n",
       " ('96070', 954.2712527121563),\n",
       " ('86238', 954.2712527121563),\n",
       " ('68946', 954.2712527121563),\n",
       " ('86239', 954.2712527121563),\n",
       " ('66909', 954.2712527121563),\n",
       " ('184142', 781.19488314776),\n",
       " ('299039', 770.664978342663),\n",
       " ('571451', 749.2130806752585),\n",
       " ('570985', 744.4415127078548),\n",
       " ('299040', 721.5266967317406),\n",
       " ('319412', 717.3411614327924),\n",
       " ('184332', 699.2691386429796),\n",
       " ('544858', 696.2733111716047),\n",
       " ('184279', 696.2363943850149),\n",
       " ('743', 658.9839350008582),\n",
       " ('313077', 656.8659266183371),\n",
       " ('95527', 652.4589778007157),\n",
       " ('100130', 650.0383532746306),\n",
       " ('101163', 647.7388819513613),\n",
       " ('95018', 646.8434273879923),\n",
       " ('100646', 645.8693341278272),\n",
       " ('96045', 642.355920446252),\n",
       " ('66879', 634.6726840931858),\n",
       " ('319210', 634.5704693565365),\n",
       " ('33', 628.6997648124054),\n",
       " ('210376', 578.3363898429868),\n",
       " ('210305', 572.9456902383723),\n",
       " ('331840', 563.2218700696069),\n",
       " ('451016', 529.3937614365551),\n",
       " ('184150', 484.6948160832618),\n",
       " ('184137', 475.30816057033394),\n",
       " ('184276', 471.06922717690793),\n",
       " ('184330', 469.5328927254763),\n",
       " ('184324', 469.2943600759948),\n",
       " ('184338', 440.42416498450746),\n",
       " ('49176', 435.55950166589884),\n",
       " ('406550', 427.8889133815207),\n",
       " ('479054', 411.9398499282199),\n",
       " ('55913', 410.52932232268415),\n",
       " ('477985', 409.2460860051755),\n",
       " ('270625', 404.9043373059311),\n",
       " ('53427', 393.07600672293415),\n",
       " ('477172', 390.0292860524766),\n",
       " ('481959', 390.02928605247655),\n",
       " ('313353', 380.24815784083995),\n",
       " ('54008', 340.2014792861356),\n",
       " ('55912', 340.1991341993106),\n",
       " ('45327', 334.84227339533606),\n",
       " ('546675', 334.63231182294004),\n",
       " ('48633', 308.3478126291303),\n",
       " ('273278', 308.31591290302384),\n",
       " ('280874', 307.9513833610385),\n",
       " ('210139', 298.9264154985077),\n",
       " ('546708', 293.61067314683453),\n",
       " ('502214', 284.64743751954563),\n",
       " ('501481', 282.908605285269),\n",
       " ('623254', 272.2648928376461),\n",
       " ('500928', 269.4905735263818),\n",
       " ('504070', 269.4905735263818),\n",
       " ('417965', 265.0462311452805),\n",
       " ('210142', 257.1757602490393),\n",
       " ('571445', 252.622322324123),\n",
       " ('602775', 251.52730760568696),\n",
       " ('280873', 250.3538963211823),\n",
       " ('613955', 246.0579406353322),\n",
       " ('331838', 245.816452466182),\n",
       " ('331839', 245.816452466182),\n",
       " ('331846', 245.816452466182),\n",
       " ('623267', 241.96484605237256),\n",
       " ('45955', 240.55650479621985),\n",
       " ('48634', 240.5565047962198),\n",
       " ('623783', 235.37503535917256),\n",
       " ('430966', 235.320829218094),\n",
       " ('657843', 231.31507181281418),\n",
       " ('657219', 230.56502494797613),\n",
       " ('158750', 226.13077621116702),\n",
       " ('627015', 224.4436496957745),\n",
       " ('316012', 223.34745747990345),\n",
       " ('571456', 222.25883118536441),\n",
       " ('659361', 218.99085075580007)]"
      ]
     },
     "execution_count": 60,
     "metadata": {},
     "output_type": "execute_result"
    }
   ],
   "source": [
    "ranks.top(100, key=lambda items: items[1])"
   ]
  }
 ],
 "metadata": {
  "kernelspec": {
   "display_name": "Python 3",
   "language": "python",
   "name": "python3"
  },
  "language_info": {
   "codemirror_mode": {
    "name": "ipython",
    "version": 3
   },
   "file_extension": ".py",
   "mimetype": "text/x-python",
   "name": "python",
   "nbconvert_exporter": "python",
   "pygments_lexer": "ipython3",
   "version": "3.7.6"
  }
 },
 "nbformat": 4,
 "nbformat_minor": 4
}
